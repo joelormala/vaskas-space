{
 "cells": [
  {
   "cell_type": "markdown",
   "id": "a2ec3817-88c3-4b11-a0f9-9574016252d8",
   "metadata": {},
   "source": [
    "# Local Outlier Factor method trained on barrier, distance, chi-1_fa and S-2_fa variables"
   ]
  },
  {
   "cell_type": "code",
   "execution_count": 1,
   "id": "220e943e-fd5c-40f8-a4d1-2459de333910",
   "metadata": {},
   "outputs": [],
   "source": [
    "import matplotlib.pyplot as plt \n",
    "import csv \n",
    "import pandas as pd \n",
    "from sklearn.ensemble import IsolationForest\n",
    "from sklearn import preprocessing\n",
    "from sklearn.neighbors import LocalOutlierFactor\n",
    "import seaborn as sns"
   ]
  },
  {
   "cell_type": "markdown",
   "id": "7192d534-4943-4447-bbfc-59a59559391b",
   "metadata": {},
   "source": [
    "Read CSV data into panda DataFrame \"distance_barrier\", print first five rows and plot the data in a scatterplot:"
   ]
  },
  {
   "cell_type": "code",
   "execution_count": null,
   "id": "4141eb80-4d04-447c-8508-95b02827ab5c",
   "metadata": {},
   "outputs": [],
   "source": [
    "distance_barrier = pd.read_csv(\"data/vaskas_features_properties_smiles_filenames.csv\", usecols=[1, 26, 90, 91])\n",
    "print(distance_barrier.head())\n",
    "distance_barrier.plot(kind='scatter', x='distance', y='barrier')"
   ]
  },
  {
   "cell_type": "code",
   "execution_count": null,
   "id": "65d6f4ba-8f7c-4942-a1e7-da7dca68c550",
   "metadata": {},
   "outputs": [],
   "source": [
    "distance_barrier.plot(kind='scatter', x='chi-1_fa', y='barrier')\n"
   ]
  },
  {
   "cell_type": "code",
   "execution_count": null,
   "id": "50d3aa86-d36e-43f6-902d-4e634b84628e",
   "metadata": {},
   "outputs": [],
   "source": [
    "distance_barrier.plot(kind='scatter', x='S-2_fa', y='barrier')"
   ]
  },
  {
   "cell_type": "code",
   "execution_count": null,
   "id": "599b6642-1689-45e2-ad24-4cc0469e3f5b",
   "metadata": {},
   "outputs": [],
   "source": [
    "distance_barrier.info()"
   ]
  },
  {
   "cell_type": "markdown",
   "id": "b8ed3c54-3036-4b70-acba-81f845c456ca",
   "metadata": {},
   "source": [
    "Define variables for the Local Outlier Factor model and fit it to the data. Set contamination percentage = percentage of outliers. Define anomaly scores (continuous variable) and anomaly score (descrete variable [1, -1]). "
   ]
  },
  {
   "cell_type": "code",
   "execution_count": null,
   "id": "95f428a7-da89-49a4-9afa-5b5bd73314c4",
   "metadata": {},
   "outputs": [],
   "source": [
    "anomaly_inputs = ['distance', 'barrier', 'S-2_fa', 'chi-1_fa']\n",
    "lof = LocalOutlierFactor(n_neighbors=20, contamination=0.01)\n",
    "distance_barrier['anomaly'] = lof.fit_predict(distance_barrier[anomaly_inputs])\n",
    "distance_barrier['anomaly_scores'] = lof.negative_outlier_factor_ * -1"
   ]
  },
  {
   "cell_type": "code",
   "execution_count": null,
   "id": "cdd361f9-ba70-42bf-a882-97c1b3a61739",
   "metadata": {},
   "outputs": [],
   "source": [
    "distance_barrier.info()"
   ]
  },
  {
   "cell_type": "code",
   "execution_count": null,
   "id": "21027e21-8d65-4bb0-8799-2cda7c45549f",
   "metadata": {},
   "outputs": [],
   "source": [
    "distance_barrier.loc[:, ['distance', 'barrier', 'chi-1_fa', 'S-2_fa', 'anomaly_scores', 'anomaly'] ]"
   ]
  },
  {
   "cell_type": "markdown",
   "id": "974270df-573d-4d36-8e3c-b8e9dba9a070",
   "metadata": {},
   "source": [
    "Define a function with Seaborn to plot outliers and inliers in scatterplots, where the anomaly_score is color coded. "
   ]
  },
  {
   "cell_type": "code",
   "execution_count": null,
   "id": "705c7df6-7597-4998-9ddd-e1ded952ba44",
   "metadata": {},
   "outputs": [],
   "source": [
    "def outlier_plot(data, outlier_method_name, x_var, y_var, h_var, s_var, xaxis_limits=[0,1], yaxis_limits=[0,1]):\n",
    "    \n",
    "    print(f'Outlier Method: {outlier_method_name} (normalized: distance vs barrier vs chi-1_fa vs S-2_fa)')\n",
    "\n",
    "    method = f'{outlier_method_name}_anomaly'\n",
    "\n",
    "    print(f\"Number of anomalous values {len(data[data['anomaly']==-1])}\")\n",
    "    print(f\"Number of non anomalous values {len(data[data['anomaly']==1])}\")\n",
    "    print(f\"Total number of values: {len(data)}\")\n",
    "\n",
    "    g = sns.relplot(data=data, x=x_var, y=y_var, col='anomaly', hue=h_var, size=s_var) \n",
    "    g.fig.suptitle(f'Outlier method: {outlier_method_name} (distance vs barrier vs chi-1_fa vs S-2_fa)', y=1.10, fontweight='bold')\n",
    "    g.set(xlim=xaxis_limits, ylim=yaxis_limits)\n",
    "    axes = g.axes.flatten()\n",
    "    axes[0].set_title(f\"Outliers\\n{len(data[data['anomaly']== -1])} points\")\n",
    "    axes[1].set_title(f\"Inliers\\n{len(data[data['anomaly']== 1])} points\")\n",
    "    return g\n",
    "    \n",
    "    "
   ]
  },
  {
   "cell_type": "code",
   "execution_count": null,
   "id": "cfd71a5c-e101-4727-9cda-a943e79251d9",
   "metadata": {},
   "outputs": [],
   "source": [
    "outlier_plot(distance_barrier, \"Local Outlier Factor\", \"distance\", \"barrier\", \"anomaly_scores\", \"S-2_fa\", [0.8, 1.1], [0, 30])"
   ]
  },
  {
   "cell_type": "code",
   "execution_count": null,
   "id": "9a70dad3-4b11-46d0-ab17-543bca30f72d",
   "metadata": {},
   "outputs": [],
   "source": [
    "outlier_plot(distance_barrier, \"Local Outlier Factor\", \"chi-1_fa\", \"barrier\", \"anomaly_scores\", \"S-2_fa\", [200, 1100], [0, 30])"
   ]
  },
  {
   "cell_type": "code",
   "execution_count": null,
   "id": "7e9ceb47-52c9-4a02-8f07-090ce23ed419",
   "metadata": {},
   "outputs": [],
   "source": [
    "outlier_plot(distance_barrier, \"Local Outlier Factor\", \"S-2_fa\", \"barrier\", \"anomaly_scores\", \"chi-1_fa\", [25, 150], [0, 30])"
   ]
  },
  {
   "cell_type": "markdown",
   "id": "b67896c8-7dec-4394-b54d-5ae3e7b2ceae",
   "metadata": {},
   "source": [
    "The suitability of the outlier method is clearly sensitive to the underlying data-distribution. The Local Outlier Factor method seems to tackle clustered data distributions better than the Isolation Forest model. The Local Outlier Factor model is based on k nearest neightbor distance metric. However, when fitted to a multidimensional data, some vectors (chi-1_fa and S-2_fa) seem to influence the anomaly score more than others (distance). Here the different vectors are not normalized, so I will check if explicit normalization helps (or if normalization is already included in the model fitting). Pre-print with extensive benchmark of outlier method on different datasets:  https://arxiv.org/abs/2305.00735 "
   ]
  }
 ],
 "metadata": {
  "kernelspec": {
   "display_name": "Python 3 (ipykernel)",
   "language": "python",
   "name": "python3"
  },
  "language_info": {
   "codemirror_mode": {
    "name": "ipython",
    "version": 3
   },
   "file_extension": ".py",
   "mimetype": "text/x-python",
   "name": "python",
   "nbconvert_exporter": "python",
   "pygments_lexer": "ipython3",
   "version": "3.10.14"
  }
 },
 "nbformat": 4,
 "nbformat_minor": 5
}
